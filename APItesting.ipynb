{
  "nbformat": 4,
  "nbformat_minor": 0,
  "metadata": {
    "colab": {
      "name": "APItesting.ipynb",
      "provenance": [],
      "collapsed_sections": []
    },
    "kernelspec": {
      "name": "python3",
      "display_name": "Python 3"
    },
    "language_info": {
      "name": "python"
    }
  },
  "cells": [
    {
      "cell_type": "code",
      "metadata": {
        "id": "0UNJGhbZtglU"
      },
      "source": [
        "import json,requests,random\n",
        "url='http://localhost:8000/'\n",
        "r1=requests.get(url+'addUser')\n",
        "r1.text"
      ],
      "execution_count": null,
      "outputs": []
    },
    {
      "cell_type": "code",
      "metadata": {
        "id": "MGJHaTpDkdGA"
      },
      "source": [
        "r2=requests.get(url+'addSomething')\n",
        "r2.text"
      ],
      "execution_count": null,
      "outputs": []
    },
    {
      "cell_type": "code",
      "metadata": {
        "id": "U9HqLlO-lk3C"
      },
      "source": [
        "r3=requests.get(url+'addNew/'+str(random.randint(0,100)))\n",
        "r3.text"
      ],
      "execution_count": null,
      "outputs": []
    },
    {
      "cell_type": "code",
      "metadata": {
        "id": "5UG2-c0XmSHw"
      },
      "source": [
        "r4=requests.get(url+'addNewError/'+str(random.randint(0,100)))\n",
        "r4.text"
      ],
      "execution_count": null,
      "outputs": []
    }
  ]
}